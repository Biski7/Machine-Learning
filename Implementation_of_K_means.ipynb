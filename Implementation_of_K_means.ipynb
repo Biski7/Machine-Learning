{
  "nbformat": 4,
  "nbformat_minor": 0,
  "metadata": {
    "colab": {
      "provenance": [],
      "authorship_tag": "ABX9TyMqjjApxeVXdQSzUe2BRPPo",
      "include_colab_link": true
    },
    "kernelspec": {
      "name": "python3",
      "display_name": "Python 3"
    },
    "language_info": {
      "name": "python"
    }
  },
  "cells": [
    {
      "cell_type": "markdown",
      "metadata": {
        "id": "view-in-github",
        "colab_type": "text"
      },
      "source": [
        "<a href=\"https://colab.research.google.com/github/Biski7/Machine-Learning/blob/main/Implementation_of_K_means.ipynb\" target=\"_parent\"><img src=\"https://colab.research.google.com/assets/colab-badge.svg\" alt=\"Open In Colab\"/></a>"
      ]
    },
    {
      "cell_type": "code",
      "execution_count": null,
      "metadata": {
        "id": "UfcJMCPju5La"
      },
      "outputs": [],
      "source": [
        "import numpy as np\n",
        "import sys\n",
        "\n",
        "def euclidean_distance(x1, y1, x2, y2):\n",
        "    return np.sqrt((x2 - x1)**2 + (y2 - y1)**2)\n",
        "\n",
        "def k_means(data, k, max_iters=100, tolerance=1e-4):\n",
        "    centroids = data[np.random.choice(len(data), k, replace=False)]\n",
        "\n",
        "    for _ in range(max_iters):\n",
        "\n",
        "        # Calculate the distance of each point with the centroid\n",
        "        distances = np.array([[euclidean_distance(x1, y1, x2, y2) for x2, y2 in centroids] for x1, y1 in data])\n",
        "\n",
        "        # Find the minimum distance of that data point and assign a label to that data point ( 0 or 1)\n",
        "        # We will later change the cluster name to start from 1 not 0\n",
        "        cluster = np.argmin(distances, axis=1)\n",
        "        new_centroids = np.array([np.mean(data[cluster == i], axis=0) for i in range(k)])\n",
        "\n",
        "        # We want to stop the k-means if we found convergence\n",
        "        if np.sum([euclidean_distance(x1, y1, x2, y2) for (x1, y1), (x2, y2) in zip(new_centroids, centroids)]) < tolerance:\n",
        "            break\n",
        "\n",
        "        # If no convergence, we continue the loop\n",
        "        centroids = new_centroids\n",
        "\n",
        "    return cluster, centroids\n",
        "\n",
        "def input_from_file(file_path):\n",
        "    with open(file_path, 'r') as file:\n",
        "        data = []\n",
        "        for every_line in file:\n",
        "            x, y = map(int, every_line.split())\n",
        "            data.append([x, y])\n",
        "    return np.array(data)\n",
        "\n",
        "def output_2file(file_path, data, labels):\n",
        "    with open(file_path, 'w') as file:\n",
        "        for point, label in zip(data, labels):\n",
        "            file.write(f\"{point[0]}\\t{point[1]}\\t{label + 1}\\n\")\n",
        "\n",
        "if len(sys.argv) != 4:\n",
        "    print(\"Should give 4 arguments (python file_name input_file k output_file)\")\n",
        "    exit()\n",
        "\n",
        "# Take arguments from command line\n",
        "# input_file = sys.argv[1]\n",
        "# print(type(input_file))\n",
        "# k = int(sys.argv[2])\n",
        "# output_file = sys.argv[3]\n",
        "\n",
        "k = 2\n",
        "input_file = 'input.txt'\n",
        "output_file = 'output.txt'\n",
        "\n",
        "data = input_from_file(input_file)\n",
        "labels, centroids = k_means(data, k)\n",
        "output_2file(output_file, data, labels)\n",
        "\n"
      ]
    }
  ]
}